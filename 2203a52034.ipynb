{
  "nbformat": 4,
  "nbformat_minor": 0,
  "metadata": {
    "colab": {
      "provenance": []
    },
    "kernelspec": {
      "name": "python3",
      "display_name": "Python 3"
    },
    "language_info": {
      "name": "python"
    }
  },
  "cells": [
    {
      "cell_type": "code",
      "execution_count": 16,
      "metadata": {
        "colab": {
          "base_uri": "https://localhost:8080/"
        },
        "id": "8LKn2GXJNRC4",
        "outputId": "ecd66112-d852-45c2-ab9c-2e96b3e6ce18"
      },
      "outputs": [
        {
          "output_type": "stream",
          "name": "stdout",
          "text": [
            "    Gender  Age Range  Head Size(cm^3)  Brain Weight(grams)\n",
            "0      0.0        0.0         1.000000             0.842932\n",
            "1      0.0        0.0         0.275959             0.232984\n",
            "2      0.0        0.0         0.765201             0.332461\n",
            "3      0.0        0.0         0.312442             0.193717\n",
            "4      0.0        0.0         0.686623             1.000000\n",
            "5      0.0        0.0         0.132834             0.240838\n",
            "6      0.0        0.0         0.319925             0.502618\n",
            "7      0.0        0.0         0.108513             0.123037\n",
            "8      0.0        1.0         0.159027             0.384817\n",
            "9      1.0        1.0         0.504210             0.437173\n",
            "10     1.0        1.0         0.000000             0.345550\n",
            "11     1.0        1.0         0.514500             0.450262\n",
            "12     1.0        1.0         0.184284             0.384817\n",
            "13     1.0        1.0         0.715622             0.821990\n",
            "14     1.0        1.0         0.363891             0.000000\n"
          ]
        }
      ],
      "source": [
        "import pandas as pd\n",
        "from sklearn.preprocessing import MinMaxScaler\n",
        "\n",
        "# Original data\n",
        "data = {\n",
        "    'Gender': [1, 1, 1, 1, 1, 1, 1, 1, 1, 2, 2, 2, 2, 2, 2],\n",
        "        'Age Range': [1, 1, 1, 1, 1, 1, 1, 1, 2, 2, 2, 2, 2, 2, 2],\n",
        "            'Head Size(cm^3)': [4512, 3738, 4261, 3777, 4177, 3585, 3785, 3559, 3613, 3982, 3443, 3993, 3640, 4208, 3832],\n",
        "                'Brain Weight(grams)': [1530, 1297, 1335, 1282, 1590, 1300, 1400, 1255, 1355, 1375, 1340, 1380, 1355, 1522, 1208]\n",
        "                }\n",
        "\n",
        "df = pd.DataFrame(data)\n",
        "\n",
        "\n",
        "numeric_columns = df.select_dtypes(include=['float64', 'int64']).columns\n",
        "\n",
        "\n",
        "scaler = MinMaxScaler()\n",
        "df[numeric_columns] = scaler.fit_transform(df[numeric_columns])\n",
        "\n",
        "\n",
        "print(df)\n",
        "\n",
        "\n",
        "\n"
      ]
    },
    {
      "cell_type": "code",
      "source": [
        "import pandas as pd"
      ],
      "metadata": {
        "id": "SFFIkFhqQSPM"
      },
      "execution_count": 17,
      "outputs": []
    },
    {
      "cell_type": "code",
      "source": [
        "file_path = '/content/archive (2).zip'\n",
        "housing_data = pd.read_csv(file_path)\n"
      ],
      "metadata": {
        "id": "FTY7hvOcWVgC"
      },
      "execution_count": 18,
      "outputs": []
    },
    {
      "cell_type": "code",
      "source": [
        "data_description = housing_data.describe()\n",
        "print(\"Data Description:\")\n",
        "print(data_description)"
      ],
      "metadata": {
        "colab": {
          "base_uri": "https://localhost:8080/"
        },
        "id": "PQ7NLfnSWcdd",
        "outputId": "a21320d4-ce79-4a71-a67d-8d0a960a8e90"
      },
      "execution_count": 19,
      "outputs": [
        {
          "output_type": "stream",
          "name": "stdout",
          "text": [
            "Data Description:\n",
            "          longitude      latitude  housing_median_age   total_rooms  \\\n",
            "count  20640.000000  20640.000000        20640.000000  20640.000000   \n",
            "mean    -119.569704     35.631861           28.639486   2635.763081   \n",
            "std        2.003532      2.135952           12.585558   2181.615252   \n",
            "min     -124.350000     32.540000            1.000000      2.000000   \n",
            "25%     -121.800000     33.930000           18.000000   1447.750000   \n",
            "50%     -118.490000     34.260000           29.000000   2127.000000   \n",
            "75%     -118.010000     37.710000           37.000000   3148.000000   \n",
            "max     -114.310000     41.950000           52.000000  39320.000000   \n",
            "\n",
            "       total_bedrooms    population    households  median_income  \\\n",
            "count    20433.000000  20640.000000  20640.000000   20640.000000   \n",
            "mean       537.870553   1425.476744    499.539680       3.870671   \n",
            "std        421.385070   1132.462122    382.329753       1.899822   \n",
            "min          1.000000      3.000000      1.000000       0.499900   \n",
            "25%        296.000000    787.000000    280.000000       2.563400   \n",
            "50%        435.000000   1166.000000    409.000000       3.534800   \n",
            "75%        647.000000   1725.000000    605.000000       4.743250   \n",
            "max       6445.000000  35682.000000   6082.000000      15.000100   \n",
            "\n",
            "       median_house_value  \n",
            "count        20640.000000  \n",
            "mean        206855.816909  \n",
            "std         115395.615874  \n",
            "min          14999.000000  \n",
            "25%         119600.000000  \n",
            "50%         179700.000000  \n",
            "75%         264725.000000  \n",
            "max         500001.000000  \n"
          ]
        }
      ]
    },
    {
      "cell_type": "code",
      "source": [
        "data_info = housing_data.info()\n",
        "print(\"\\nData Types and Shape:\")\n",
        "print(data_info)"
      ],
      "metadata": {
        "colab": {
          "base_uri": "https://localhost:8080/"
        },
        "id": "u2B5q6ZqWf6c",
        "outputId": "08385de4-b066-4297-c292-8bd4d661ffa2"
      },
      "execution_count": 20,
      "outputs": [
        {
          "output_type": "stream",
          "name": "stdout",
          "text": [
            "<class 'pandas.core.frame.DataFrame'>\n",
            "RangeIndex: 20640 entries, 0 to 20639\n",
            "Data columns (total 10 columns):\n",
            " #   Column              Non-Null Count  Dtype  \n",
            "---  ------              --------------  -----  \n",
            " 0   longitude           20640 non-null  float64\n",
            " 1   latitude            20640 non-null  float64\n",
            " 2   housing_median_age  20640 non-null  float64\n",
            " 3   total_rooms         20640 non-null  float64\n",
            " 4   total_bedrooms      20433 non-null  float64\n",
            " 5   population          20640 non-null  float64\n",
            " 6   households          20640 non-null  float64\n",
            " 7   median_income       20640 non-null  float64\n",
            " 8   median_house_value  20640 non-null  float64\n",
            " 9   ocean_proximity     20640 non-null  object \n",
            "dtypes: float64(9), object(1)\n",
            "memory usage: 1.6+ MB\n",
            "\n",
            "Data Types and Shape:\n",
            "None\n"
          ]
        }
      ]
    },
    {
      "cell_type": "code",
      "source": [
        "null_values = housing_data.isnull().sum()\n",
        "print(\"\\nNull Values:\")\n",
        "print(null_values)"
      ],
      "metadata": {
        "colab": {
          "base_uri": "https://localhost:8080/"
        },
        "id": "49J7AHW8WlsL",
        "outputId": "0a2d5b2a-712d-40b0-d884-769f1639fadb"
      },
      "execution_count": 21,
      "outputs": [
        {
          "output_type": "stream",
          "name": "stdout",
          "text": [
            "\n",
            "Null Values:\n",
            "longitude               0\n",
            "latitude                0\n",
            "housing_median_age      0\n",
            "total_rooms             0\n",
            "total_bedrooms        207\n",
            "population              0\n",
            "households              0\n",
            "median_income           0\n",
            "median_house_value      0\n",
            "ocean_proximity         0\n",
            "dtype: int64\n"
          ]
        }
      ]
    },
    {
      "cell_type": "code",
      "source": [
        "housing_data_filled = housing_data.fillna(housing_data.mean())"
      ],
      "metadata": {
        "colab": {
          "base_uri": "https://localhost:8080/"
        },
        "id": "cj5hcM3NWpmg",
        "outputId": "cca6e591-3b51-4e05-a912-507fb9af520b"
      },
      "execution_count": 22,
      "outputs": [
        {
          "output_type": "stream",
          "name": "stderr",
          "text": [
            "<ipython-input-22-77497ba84a3e>:1: FutureWarning: The default value of numeric_only in DataFrame.mean is deprecated. In a future version, it will default to False. In addition, specifying 'numeric_only=None' is deprecated. Select only valid columns or specify the value of numeric_only to silence this warning.\n",
            "  housing_data_filled = housing_data.fillna(housing_data.mean())\n"
          ]
        }
      ]
    },
    {
      "cell_type": "code",
      "source": [
        "import pandas as pd\n",
        "from sklearn.model_selection import train_test_split\n",
        "from sklearn.preprocessing import MinMaxScaler, OneHotEncoder\n",
        "from sklearn.compose import ColumnTransformer"
      ],
      "metadata": {
        "id": "cusUoE4Db_KL"
      },
      "execution_count": 23,
      "outputs": []
    },
    {
      "cell_type": "code",
      "source": [
        "file_path = '/content/sample_data/california_housing_test.csv'\n",
        "housing_data = pd.read_csv(file_path)\n"
      ],
      "metadata": {
        "id": "OmethalMcg0F"
      },
      "execution_count": 24,
      "outputs": []
    },
    {
      "cell_type": "code",
      "source": [
        "non_numeric_columns = housing_data.select_dtypes(exclude=['float64', 'int64']).columns"
      ],
      "metadata": {
        "id": "gC8h2N5Icsyi"
      },
      "execution_count": 25,
      "outputs": []
    },
    {
      "cell_type": "code",
      "source": [
        "features = housing_data.drop(columns=['median_house_value'])\n",
        "target = housing_data['median_house_value']"
      ],
      "metadata": {
        "id": "3cKhqR7uduOg"
      },
      "execution_count": 26,
      "outputs": []
    },
    {
      "cell_type": "code",
      "source": [
        "numeric_features = features.drop(columns=non_numeric_columns)\n",
        "categorical_features = features[non_numeric_columns]\n"
      ],
      "metadata": {
        "id": "S41LfCOKdxSW"
      },
      "execution_count": 27,
      "outputs": []
    },
    {
      "cell_type": "code",
      "source": [
        "encoder = OneHotEncoder(drop='first', sparse=False)\n",
        "categorical_features_encoded = pd.DataFrame(encoder.fit_transform(categorical_features), columns=encoder.get_feature_names_out(categorical_features.columns))"
      ],
      "metadata": {
        "colab": {
          "base_uri": "https://localhost:8080/"
        },
        "id": "W6fQG2p7d3W3",
        "outputId": "20709d7b-3450-4834-8edf-d6349465142d"
      },
      "execution_count": 28,
      "outputs": [
        {
          "output_type": "stream",
          "name": "stderr",
          "text": [
            "/usr/local/lib/python3.10/dist-packages/sklearn/preprocessing/_encoders.py:868: FutureWarning: `sparse` was renamed to `sparse_output` in version 1.2 and will be removed in 1.4. `sparse_output` is ignored unless you leave `sparse` to its default value.\n",
            "  warnings.warn(\n"
          ]
        }
      ]
    },
    {
      "cell_type": "code",
      "source": [
        "features_processed = pd.concat([numeric_features, categorical_features_encoded], axis=1)"
      ],
      "metadata": {
        "id": "GDvj4D-6d66M"
      },
      "execution_count": 29,
      "outputs": []
    },
    {
      "cell_type": "code",
      "source": [
        "scaler = MinMaxScaler()\n",
        "features_normalized = pd.DataFrame(scaler.fit_transform(features_processed), columns=features_processed.columns)"
      ],
      "metadata": {
        "id": "hAgRd2Bcd9sa"
      },
      "execution_count": 30,
      "outputs": []
    },
    {
      "cell_type": "code",
      "source": [
        "X_train, X_test, y_train, y_test = train_test_split(features_normalized, target, test_size=0.2, random_state=42)"
      ],
      "metadata": {
        "id": "O8K1iq_Id-Sv"
      },
      "execution_count": 31,
      "outputs": []
    },
    {
      "cell_type": "code",
      "source": [
        "print(\"Features:\")\n",
        "print(features.head())\n",
        "print(\"\\nTarget Variable:\")\n",
        "print(target.head())\n",
        "print(\"\\nNormalized Features:\")\n",
        "print(features_normalized.head())\n",
        "print(\"\\nTrain and Test Shapes:\")\n",
        "print(\"X_train:\", X_train.shape, \"X_test:\", X_test.shape, \"y_train:\", y_train.shape, \"y_test:\", y_test.shape)"
      ],
      "metadata": {
        "colab": {
          "base_uri": "https://localhost:8080/"
        },
        "id": "VaAj62JJeAws",
        "outputId": "dc5ac142-77e1-47ec-bb14-339e10854dcd"
      },
      "execution_count": 32,
      "outputs": [
        {
          "output_type": "stream",
          "name": "stdout",
          "text": [
            "Features:\n",
            "   longitude  latitude  housing_median_age  total_rooms  total_bedrooms  \\\n",
            "0    -122.05     37.37                27.0       3885.0           661.0   \n",
            "1    -118.30     34.26                43.0       1510.0           310.0   \n",
            "2    -117.81     33.78                27.0       3589.0           507.0   \n",
            "3    -118.36     33.82                28.0         67.0            15.0   \n",
            "4    -119.67     36.33                19.0       1241.0           244.0   \n",
            "\n",
            "   population  households  median_income  \n",
            "0      1537.0       606.0         6.6085  \n",
            "1       809.0       277.0         3.5990  \n",
            "2      1484.0       495.0         5.7934  \n",
            "3        49.0        11.0         6.1359  \n",
            "4       850.0       237.0         2.9375  \n",
            "\n",
            "Target Variable:\n",
            "0    344700.0\n",
            "1    176500.0\n",
            "2    270500.0\n",
            "3    330000.0\n",
            "4     81700.0\n",
            "Name: median_house_value, dtype: float64\n",
            "\n",
            "Normalized Features:\n",
            "   longitude  latitude  housing_median_age  total_rooms  total_bedrooms  \\\n",
            "0   0.219814  0.513889            0.509804     0.127414        0.121654   \n",
            "1   0.606811  0.181624            0.823529     0.049402        0.056858   \n",
            "2   0.657379  0.130342            0.509804     0.117691        0.093225   \n",
            "3   0.600619  0.134615            0.529412     0.002004        0.002400   \n",
            "4   0.465428  0.402778            0.352941     0.040566        0.044674   \n",
            "\n",
            "   population  households  median_income  \n",
            "0    0.128416    0.122565       0.421277  \n",
            "1    0.067393    0.055804       0.213728  \n",
            "2    0.123973    0.100041       0.365064  \n",
            "3    0.003688    0.001826       0.388684  \n",
            "4    0.070830    0.047687       0.168108  \n",
            "\n",
            "Train and Test Shapes:\n",
            "X_train: (2400, 8) X_test: (600, 8) y_train: (2400,) y_test: (600,)\n"
          ]
        }
      ]
    }
  ]
}